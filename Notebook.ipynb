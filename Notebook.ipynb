{
 "cells": [
  {
   "cell_type": "markdown",
   "id": "1704925d-4b8a-4846-9522-5de20db05f8d",
   "metadata": {},
   "source": [
    "### Importing the neccessary libraries"
   ]
  },
  {
   "cell_type": "code",
   "execution_count": 1,
   "id": "5c82cf2d-7fad-4312-ada2-ff93ab227261",
   "metadata": {},
   "outputs": [
    {
     "ename": "ModuleNotFoundError",
     "evalue": "No module named 'seaborn'",
     "output_type": "error",
     "traceback": [
      "\u001b[1;31m---------------------------------------------------------------------------\u001b[0m",
      "\u001b[1;31mModuleNotFoundError\u001b[0m                       Traceback (most recent call last)",
      "Cell \u001b[1;32mIn[1], line 4\u001b[0m\n\u001b[0;32m      2\u001b[0m \u001b[38;5;28;01mimport\u001b[39;00m \u001b[38;5;21;01mnumpy\u001b[39;00m \u001b[38;5;28;01mas\u001b[39;00m \u001b[38;5;21;01mnp\u001b[39;00m\n\u001b[0;32m      3\u001b[0m \u001b[38;5;28;01mimport\u001b[39;00m \u001b[38;5;21;01mmatplotlib\u001b[39;00m\u001b[38;5;21;01m.\u001b[39;00m\u001b[38;5;21;01mpyplot\u001b[39;00m \u001b[38;5;28;01mas\u001b[39;00m \u001b[38;5;21;01mplt\u001b[39;00m\n\u001b[1;32m----> 4\u001b[0m \u001b[38;5;28;01mimport\u001b[39;00m \u001b[38;5;21;01mseaborn\u001b[39;00m \u001b[38;5;28;01mas\u001b[39;00m \u001b[38;5;21;01msns\u001b[39;00m\n\u001b[0;32m      5\u001b[0m \u001b[38;5;28;01mfrom\u001b[39;00m \u001b[38;5;21;01mpymongo\u001b[39;00m \u001b[38;5;28;01mimport\u001b[39;00m MongoClient\n",
      "\u001b[1;31mModuleNotFoundError\u001b[0m: No module named 'seaborn'"
     ]
    }
   ],
   "source": [
    "import pandas as pd\n",
    "import numpy as np\n",
    "import matplotlib.pyplot as plt\n",
    "import seaborn as sns\n",
    "from pymongo import MongoClient"
   ]
  },
  {
   "cell_type": "markdown",
   "id": "92f2b3f9-7560-41ad-ac13-1eca3b3310cc",
   "metadata": {},
   "source": [
    "### Loading the provided dataset"
   ]
  },
  {
   "cell_type": "code",
   "execution_count": 2,
   "id": "bb59792f-7807-4fec-b744-c29f0d5d4d55",
   "metadata": {},
   "outputs": [],
   "source": [
    "data = pd.read_csv(\"dataset/complex_account_billing_data.csv\")"
   ]
  },
  {
   "cell_type": "code",
   "execution_count": 3,
   "id": "90ddbe1a-e14f-4d6c-8d08-06b7b9121b86",
   "metadata": {},
   "outputs": [
    {
     "data": {
      "text/html": [
       "<div>\n",
       "<style scoped>\n",
       "    .dataframe tbody tr th:only-of-type {\n",
       "        vertical-align: middle;\n",
       "    }\n",
       "\n",
       "    .dataframe tbody tr th {\n",
       "        vertical-align: top;\n",
       "    }\n",
       "\n",
       "    .dataframe thead th {\n",
       "        text-align: right;\n",
       "    }\n",
       "</style>\n",
       "<table border=\"1\" class=\"dataframe\">\n",
       "  <thead>\n",
       "    <tr style=\"text-align: right;\">\n",
       "      <th></th>\n",
       "      <th>Account ID</th>\n",
       "      <th>Customer Name</th>\n",
       "      <th>Billing Date</th>\n",
       "      <th>Amount</th>\n",
       "      <th>Status</th>\n",
       "      <th>Description</th>\n",
       "      <th>Department</th>\n",
       "    </tr>\n",
       "  </thead>\n",
       "  <tbody>\n",
       "    <tr>\n",
       "      <th>0</th>\n",
       "      <td>1001</td>\n",
       "      <td>David Wilson</td>\n",
       "      <td>2023-01-01</td>\n",
       "      <td>193.987558</td>\n",
       "      <td>Pending</td>\n",
       "      <td>Consultation</td>\n",
       "      <td>Pediatrics</td>\n",
       "    </tr>\n",
       "    <tr>\n",
       "      <th>1</th>\n",
       "      <td>1002</td>\n",
       "      <td>Alice Johnson</td>\n",
       "      <td>2023-01-02</td>\n",
       "      <td>370.656021</td>\n",
       "      <td>Pending</td>\n",
       "      <td>Purchase</td>\n",
       "      <td>Orthopedics</td>\n",
       "    </tr>\n",
       "    <tr>\n",
       "      <th>2</th>\n",
       "      <td>1003</td>\n",
       "      <td>Sophia Garcia</td>\n",
       "      <td>2023-01-03</td>\n",
       "      <td>233.019486</td>\n",
       "      <td>Pending</td>\n",
       "      <td>Lab Test</td>\n",
       "      <td>Pharmacy</td>\n",
       "    </tr>\n",
       "    <tr>\n",
       "      <th>3</th>\n",
       "      <td>1004</td>\n",
       "      <td>Olivia Davis</td>\n",
       "      <td>2023-01-04</td>\n",
       "      <td>296.120725</td>\n",
       "      <td>Paid</td>\n",
       "      <td>Follow-up</td>\n",
       "      <td>Pharmacy</td>\n",
       "    </tr>\n",
       "    <tr>\n",
       "      <th>4</th>\n",
       "      <td>1005</td>\n",
       "      <td>David Wilson</td>\n",
       "      <td>2023-01-05</td>\n",
       "      <td>294.654764</td>\n",
       "      <td>Paid</td>\n",
       "      <td>Therapy</td>\n",
       "      <td>ENT</td>\n",
       "    </tr>\n",
       "    <tr>\n",
       "      <th>5</th>\n",
       "      <td>1006</td>\n",
       "      <td>Olivia Davis</td>\n",
       "      <td>2023-01-06</td>\n",
       "      <td>485.654759</td>\n",
       "      <td>Paid</td>\n",
       "      <td>Procedure</td>\n",
       "      <td>General Practice</td>\n",
       "    </tr>\n",
       "    <tr>\n",
       "      <th>6</th>\n",
       "      <td>1007</td>\n",
       "      <td>Chris Lee</td>\n",
       "      <td>2023-01-07</td>\n",
       "      <td>2864.738488</td>\n",
       "      <td>Pending</td>\n",
       "      <td>Lab Test</td>\n",
       "      <td>General Practice</td>\n",
       "    </tr>\n",
       "    <tr>\n",
       "      <th>7</th>\n",
       "      <td>1008</td>\n",
       "      <td>Sophia Garcia</td>\n",
       "      <td>2023-01-08</td>\n",
       "      <td>244.228596</td>\n",
       "      <td>Pending</td>\n",
       "      <td>Therapy</td>\n",
       "      <td>Neurology</td>\n",
       "    </tr>\n",
       "    <tr>\n",
       "      <th>8</th>\n",
       "      <td>1009</td>\n",
       "      <td>Sophia Garcia</td>\n",
       "      <td>2023-01-09</td>\n",
       "      <td>183.370132</td>\n",
       "      <td>Pending</td>\n",
       "      <td>Emergency</td>\n",
       "      <td>Cardiology</td>\n",
       "    </tr>\n",
       "    <tr>\n",
       "      <th>9</th>\n",
       "      <td>1010</td>\n",
       "      <td>Olivia Davis</td>\n",
       "      <td>2023-01-10</td>\n",
       "      <td>127.601073</td>\n",
       "      <td>Unpaid</td>\n",
       "      <td>Medication</td>\n",
       "      <td>Dermatology</td>\n",
       "    </tr>\n",
       "  </tbody>\n",
       "</table>\n",
       "</div>"
      ],
      "text/plain": [
       "   Account ID  Customer Name Billing Date       Amount   Status   Description  \\\n",
       "0        1001   David Wilson   2023-01-01   193.987558  Pending  Consultation   \n",
       "1        1002  Alice Johnson   2023-01-02   370.656021  Pending      Purchase   \n",
       "2        1003  Sophia Garcia   2023-01-03   233.019486  Pending      Lab Test   \n",
       "3        1004   Olivia Davis   2023-01-04   296.120725     Paid     Follow-up   \n",
       "4        1005   David Wilson   2023-01-05   294.654764     Paid       Therapy   \n",
       "5        1006   Olivia Davis   2023-01-06   485.654759     Paid     Procedure   \n",
       "6        1007      Chris Lee   2023-01-07  2864.738488  Pending      Lab Test   \n",
       "7        1008  Sophia Garcia   2023-01-08   244.228596  Pending       Therapy   \n",
       "8        1009  Sophia Garcia   2023-01-09   183.370132  Pending     Emergency   \n",
       "9        1010   Olivia Davis   2023-01-10   127.601073   Unpaid    Medication   \n",
       "\n",
       "         Department  \n",
       "0        Pediatrics  \n",
       "1       Orthopedics  \n",
       "2          Pharmacy  \n",
       "3          Pharmacy  \n",
       "4               ENT  \n",
       "5  General Practice  \n",
       "6  General Practice  \n",
       "7         Neurology  \n",
       "8        Cardiology  \n",
       "9       Dermatology  "
      ]
     },
     "execution_count": 3,
     "metadata": {},
     "output_type": "execute_result"
    }
   ],
   "source": [
    "data.head(10)"
   ]
  },
  {
   "cell_type": "markdown",
   "id": "87131b49-f959-403e-b3f7-df4a04c72bdf",
   "metadata": {},
   "source": [
    "### Checking data types and summary of the data"
   ]
  },
  {
   "cell_type": "code",
   "execution_count": 4,
   "id": "70b03628-3982-4adf-b1a4-ffb7a51a39d2",
   "metadata": {},
   "outputs": [
    {
     "name": "stdout",
     "output_type": "stream",
     "text": [
      "<class 'pandas.core.frame.DataFrame'>\n",
      "RangeIndex: 110 entries, 0 to 109\n",
      "Data columns (total 7 columns):\n",
      " #   Column         Non-Null Count  Dtype  \n",
      "---  ------         --------------  -----  \n",
      " 0   Account ID     110 non-null    int64  \n",
      " 1   Customer Name  110 non-null    object \n",
      " 2   Billing Date   110 non-null    object \n",
      " 3   Amount         110 non-null    float64\n",
      " 4   Status         110 non-null    object \n",
      " 5   Description    110 non-null    object \n",
      " 6   Department     110 non-null    object \n",
      "dtypes: float64(1), int64(1), object(5)\n",
      "memory usage: 6.1+ KB\n"
     ]
    }
   ],
   "source": [
    "data.info()"
   ]
  },
  {
   "cell_type": "code",
   "execution_count": 5,
   "id": "b05bf12a-26fa-45de-909f-ee0e547f0b57",
   "metadata": {},
   "outputs": [
    {
     "data": {
      "text/html": [
       "<div>\n",
       "<style scoped>\n",
       "    .dataframe tbody tr th:only-of-type {\n",
       "        vertical-align: middle;\n",
       "    }\n",
       "\n",
       "    .dataframe tbody tr th {\n",
       "        vertical-align: top;\n",
       "    }\n",
       "\n",
       "    .dataframe thead th {\n",
       "        text-align: right;\n",
       "    }\n",
       "</style>\n",
       "<table border=\"1\" class=\"dataframe\">\n",
       "  <thead>\n",
       "    <tr style=\"text-align: right;\">\n",
       "      <th></th>\n",
       "      <th>Account ID</th>\n",
       "      <th>Amount</th>\n",
       "    </tr>\n",
       "  </thead>\n",
       "  <tbody>\n",
       "    <tr>\n",
       "      <th>count</th>\n",
       "      <td>110.000000</td>\n",
       "      <td>110.000000</td>\n",
       "    </tr>\n",
       "    <tr>\n",
       "      <th>mean</th>\n",
       "      <td>1048.000000</td>\n",
       "      <td>479.309018</td>\n",
       "    </tr>\n",
       "    <tr>\n",
       "      <th>std</th>\n",
       "      <td>28.809721</td>\n",
       "      <td>738.759966</td>\n",
       "    </tr>\n",
       "    <tr>\n",
       "      <th>min</th>\n",
       "      <td>1001.000000</td>\n",
       "      <td>50.581003</td>\n",
       "    </tr>\n",
       "    <tr>\n",
       "      <th>25%</th>\n",
       "      <td>1023.250000</td>\n",
       "      <td>145.411712</td>\n",
       "    </tr>\n",
       "    <tr>\n",
       "      <th>50%</th>\n",
       "      <td>1045.500000</td>\n",
       "      <td>253.709053</td>\n",
       "    </tr>\n",
       "    <tr>\n",
       "      <th>75%</th>\n",
       "      <td>1072.750000</td>\n",
       "      <td>392.219435</td>\n",
       "    </tr>\n",
       "    <tr>\n",
       "      <th>max</th>\n",
       "      <td>1100.000000</td>\n",
       "      <td>3849.771331</td>\n",
       "    </tr>\n",
       "  </tbody>\n",
       "</table>\n",
       "</div>"
      ],
      "text/plain": [
       "        Account ID       Amount\n",
       "count   110.000000   110.000000\n",
       "mean   1048.000000   479.309018\n",
       "std      28.809721   738.759966\n",
       "min    1001.000000    50.581003\n",
       "25%    1023.250000   145.411712\n",
       "50%    1045.500000   253.709053\n",
       "75%    1072.750000   392.219435\n",
       "max    1100.000000  3849.771331"
      ]
     },
     "execution_count": 5,
     "metadata": {},
     "output_type": "execute_result"
    }
   ],
   "source": [
    "data.describe()"
   ]
  },
  {
   "cell_type": "markdown",
   "id": "45ef1e90-1ab0-45af-aaf2-b2f629e9fd07",
   "metadata": {},
   "source": [
    "### Checking for missing values"
   ]
  },
  {
   "cell_type": "code",
   "execution_count": 6,
   "id": "5fd446b2-fe5a-4964-aed0-9b040cacea02",
   "metadata": {},
   "outputs": [
    {
     "data": {
      "text/plain": [
       "Account ID       0\n",
       "Customer Name    0\n",
       "Billing Date     0\n",
       "Amount           0\n",
       "Status           0\n",
       "Description      0\n",
       "Department       0\n",
       "dtype: int64"
      ]
     },
     "execution_count": 6,
     "metadata": {},
     "output_type": "execute_result"
    }
   ],
   "source": [
    "data.isna().sum()"
   ]
  },
  {
   "cell_type": "markdown",
   "id": "08fadc4a-b762-4cf7-add6-44a72e87063b",
   "metadata": {},
   "source": [
    "### Checking for duplicate values"
   ]
  },
  {
   "cell_type": "code",
   "execution_count": 7,
   "id": "cfa163c2-790c-40d7-945e-5a89e8712a2f",
   "metadata": {},
   "outputs": [
    {
     "data": {
      "text/plain": [
       "0"
      ]
     },
     "execution_count": 7,
     "metadata": {},
     "output_type": "execute_result"
    }
   ],
   "source": [
    "data.duplicated().sum()"
   ]
  },
  {
   "cell_type": "markdown",
   "id": "966a6064-ae4e-40f5-944e-5f69e14e452d",
   "metadata": {},
   "source": [
    "### Correction of data types"
   ]
  },
  {
   "cell_type": "code",
   "execution_count": 8,
   "id": "ad2f1a93-829c-443b-8eeb-e94771626173",
   "metadata": {},
   "outputs": [],
   "source": [
    "data['Billing Date'] = pd.to_datetime(data['Billing Date'])\n",
    "data['Amount'] = data['Amount'].astype(float)"
   ]
  },
  {
   "cell_type": "markdown",
   "id": "0229be40-2e35-4206-afef-189fb667a0bd",
   "metadata": {},
   "source": [
    "### Viewing the categories in the categorical columns"
   ]
  },
  {
   "cell_type": "code",
   "execution_count": 9,
   "id": "d40204c9-04d6-4bcb-b378-4eaf463ad1e5",
   "metadata": {},
   "outputs": [
    {
     "data": {
      "text/plain": [
       "array(['Pending', 'Paid', 'Unpaid', 'Unknown'], dtype=object)"
      ]
     },
     "execution_count": 9,
     "metadata": {},
     "output_type": "execute_result"
    }
   ],
   "source": [
    "data[\"Status\"].unique()"
   ]
  },
  {
   "cell_type": "code",
   "execution_count": 10,
   "id": "49a8789e-35fe-4fe8-a245-b007911bcf5e",
   "metadata": {},
   "outputs": [
    {
     "data": {
      "text/plain": [
       "array(['Consultation', 'Purchase', 'Lab Test', 'Follow-up', 'Therapy',\n",
       "       'Procedure', 'Emergency', 'Medication', 'Miscellaneous', 'Refund',\n",
       "       'Service Fee'], dtype=object)"
      ]
     },
     "execution_count": 10,
     "metadata": {},
     "output_type": "execute_result"
    }
   ],
   "source": [
    "data[\"Description\"].unique()"
   ]
  },
  {
   "cell_type": "code",
   "execution_count": 11,
   "id": "e81521b7-c2aa-4ebe-8673-b353cfc681bf",
   "metadata": {},
   "outputs": [
    {
     "data": {
      "text/plain": [
       "array(['Pediatrics', 'Orthopedics', 'Pharmacy', 'ENT', 'General Practice',\n",
       "       'Neurology', 'Cardiology', 'Dermatology', 'Unknown', 'Radiology',\n",
       "       'Oncology'], dtype=object)"
      ]
     },
     "execution_count": 11,
     "metadata": {},
     "output_type": "execute_result"
    }
   ],
   "source": [
    "data[\"Department\"].unique()"
   ]
  },
  {
   "cell_type": "markdown",
   "id": "9c37258b-b23a-4100-8eab-a325b7425c3e",
   "metadata": {},
   "source": [
    "### Validating the Status and Department Columns"
   ]
  },
  {
   "cell_type": "code",
   "execution_count": 12,
   "id": "72c01db2-79a6-465c-bce0-889871a692c1",
   "metadata": {},
   "outputs": [],
   "source": [
    "valid_statuses = ['Paid', 'Unpaid', 'Pending']\n",
    "data = data[data['Status'].isin(valid_statuses)]"
   ]
  },
  {
   "cell_type": "code",
   "execution_count": 13,
   "id": "8cce58fb-d6a7-49bf-ba6e-2c46b07bf590",
   "metadata": {},
   "outputs": [],
   "source": [
    "valid_statuses = ['Pediatrics', 'Orthopedics', 'Pharmacy', 'ENT', 'General Practice', 'Neurology', 'Cardiology', 'Dermatology', 'Radiology','Oncology']\n",
    "data = data[data['Department'].isin(valid_statuses)]"
   ]
  },
  {
   "cell_type": "code",
   "execution_count": 14,
   "id": "b74af76f-d008-464f-94cd-247ae00d999e",
   "metadata": {},
   "outputs": [
    {
     "data": {
      "text/plain": [
       "array(['Pediatrics', 'Orthopedics', 'Pharmacy', 'ENT', 'General Practice',\n",
       "       'Neurology', 'Cardiology', 'Dermatology', 'Radiology', 'Oncology'],\n",
       "      dtype=object)"
      ]
     },
     "execution_count": 14,
     "metadata": {},
     "output_type": "execute_result"
    }
   ],
   "source": [
    "data[\"Department\"].unique()"
   ]
  },
  {
   "cell_type": "code",
   "execution_count": 15,
   "id": "640d40e3-63a4-42b8-939a-f37fd298e82c",
   "metadata": {},
   "outputs": [
    {
     "data": {
      "text/plain": [
       "array(['Pending', 'Paid', 'Unpaid'], dtype=object)"
      ]
     },
     "execution_count": 15,
     "metadata": {},
     "output_type": "execute_result"
    }
   ],
   "source": [
    "data[\"Status\"].unique()"
   ]
  },
  {
   "cell_type": "markdown",
   "id": "11bcb965-b9c9-4c46-8241-b5247139bce9",
   "metadata": {},
   "source": [
    "### Analyzing Bill Cycle Times"
   ]
  },
  {
   "cell_type": "code",
   "execution_count": 16,
   "id": "166a167d-35f3-4a8a-baef-db6d413c689d",
   "metadata": {},
   "outputs": [
    {
     "name": "stdout",
     "output_type": "stream",
     "text": [
      "Average Billing Cycle Time: 0 days 00:00:00\n"
     ]
    }
   ],
   "source": [
    "data.sort_values(by=['Account ID', 'Billing Date'], inplace=True)\n",
    "data['Billing Cycle Time'] = data.groupby('Account ID')['Billing Date'].diff()\n",
    "average_billing_cycle_time = data['Billing Cycle Time'].mean()\n",
    "print(f\"Average Billing Cycle Time: {average_billing_cycle_time}\")"
   ]
  },
  {
   "cell_type": "markdown",
   "id": "2ca1adce-b5cc-4a1f-91fe-592ca82d62b7",
   "metadata": {},
   "source": [
    "### Identifying High Cost Transactions"
   ]
  },
  {
   "cell_type": "code",
   "execution_count": 17,
   "id": "f50cc2e4-17de-49ef-b868-b3730ae18ddd",
   "metadata": {},
   "outputs": [
    {
     "name": "stdout",
     "output_type": "stream",
     "text": [
      "High-cost transactions:\n",
      "    Account ID Customer Name Billing Date       Amount   Status Description  \\\n",
      "6         1007     Chris Lee   2023-01-07  2864.738488  Pending    Lab Test   \n",
      "16        1017      John Doe   2023-01-17  2748.478753  Pending      Refund   \n",
      "31        1032  David Wilson   2023-02-01  2812.330089  Pending   Procedure   \n",
      "84        1085  Olivia Davis   2023-03-26  3006.661392     Paid   Emergency   \n",
      "93        1094    Jane Smith   2023-04-04  3593.752963  Pending    Purchase   \n",
      "\n",
      "          Department Billing Cycle Time  \n",
      "6   General Practice                NaT  \n",
      "16               ENT                NaT  \n",
      "31          Oncology                NaT  \n",
      "84               ENT                NaT  \n",
      "93        Pediatrics                NaT  \n"
     ]
    }
   ],
   "source": [
    "high_cost_threshold = data['Amount'].quantile(0.95)\n",
    "high_cost_transactions = data[data['Amount'] > high_cost_threshold]\n",
    "print(f\"High-cost transactions:\\n{high_cost_transactions}\")"
   ]
  },
  {
   "cell_type": "markdown",
   "id": "fa94b68d-7bdf-402a-ba5e-ad59795331b1",
   "metadata": {},
   "source": [
    "### Analyzing duplicate payment transactions"
   ]
  },
  {
   "cell_type": "code",
   "execution_count": 18,
   "id": "6c0d728c-a7dc-4571-a50f-53c9190b689c",
   "metadata": {},
   "outputs": [
    {
     "name": "stdout",
     "output_type": "stream",
     "text": [
      "Duplicate transactions:\n",
      "Empty DataFrame\n",
      "Columns: [Account ID, Customer Name, Billing Date, Amount, Status, Description, Department, Billing Cycle Time]\n",
      "Index: []\n"
     ]
    }
   ],
   "source": [
    "duplicate_transactions = data[data.duplicated(subset=['Account ID', 'Billing Date', 'Amount'], keep=False)]\n",
    "print(f\"Duplicate transactions:\\n{duplicate_transactions}\")"
   ]
  },
  {
   "cell_type": "markdown",
   "id": "a358832f-7959-433a-aa54-ce7c8a8fd85c",
   "metadata": {},
   "source": [
    "### Analyzing late payments"
   ]
  },
  {
   "cell_type": "code",
   "execution_count": 19,
   "id": "e1c22f84-f86b-4e05-9311-1129f2a306c8",
   "metadata": {},
   "outputs": [
    {
     "name": "stdout",
     "output_type": "stream",
     "text": [
      "Late payments:\n",
      "     Account ID    Customer Name Billing Date       Amount  Status  \\\n",
      "9          1010     Olivia Davis   2023-01-10   127.601073  Unpaid   \n",
      "13         1014     David Wilson   2023-01-14   234.349417  Unpaid   \n",
      "15         1016       Emma Brown   2023-01-16    51.400493  Unpaid   \n",
      "100        1016       Emma Brown   2023-01-16    63.786910  Unpaid   \n",
      "20         1021         John Doe   2023-01-21   492.571652  Unpaid   \n",
      "21         1022       Emma Brown   2023-01-22  1194.216873  Unpaid   \n",
      "24         1025     David Wilson   2023-01-25   289.625322  Unpaid   \n",
      "25         1026        Chris Lee   2023-01-26   224.110767  Unpaid   \n",
      "105        1026        Chris Lee   2023-01-26   182.072114  Unpaid   \n",
      "30         1031    Liam Martinez   2023-01-31  1589.820779  Unpaid   \n",
      "34         1035    Sophia Garcia   2023-02-04   325.921589  Unpaid   \n",
      "35         1036        Chris Lee   2023-02-05   374.704797  Unpaid   \n",
      "38         1039    Sophia Garcia   2023-02-08   145.869477  Unpaid   \n",
      "44         1045    Alice Johnson   2023-02-14    72.172826  Unpaid   \n",
      "49         1050     David Wilson   2023-02-19   484.357147  Unpaid   \n",
      "50         1051    Liam Martinez   2023-02-20   221.419720  Unpaid   \n",
      "54         1055     David Wilson   2023-02-24   100.631588  Unpaid   \n",
      "57         1058       Emma Brown   2023-02-27   201.446800  Unpaid   \n",
      "58         1059       Jane Smith   2023-02-28   465.718551  Unpaid   \n",
      "60         1061        Chris Lee   2023-03-02   213.906050  Unpaid   \n",
      "65         1066  Mason Rodriguez   2023-03-07   332.382968  Unpaid   \n",
      "66         1067    Alice Johnson   2023-03-08    50.581003  Unpaid   \n",
      "67         1068    Liam Martinez   2023-03-09    71.826338  Unpaid   \n",
      "73         1074    Sophia Garcia   2023-03-15   173.539472  Unpaid   \n",
      "74         1075    Alice Johnson   2023-03-16   499.018860  Unpaid   \n",
      "77         1078    Liam Martinez   2023-03-19    79.263932  Unpaid   \n",
      "78         1079       Emma Brown   2023-03-20   335.720763  Unpaid   \n",
      "85         1086  Mason Rodriguez   2023-03-27    59.731936  Unpaid   \n",
      "87         1088  Mason Rodriguez   2023-03-29   297.349272  Unpaid   \n",
      "90         1091         John Doe   2023-04-01   150.014908  Unpaid   \n",
      "91         1092         John Doe   2023-04-02   145.259123  Unpaid   \n",
      "94         1095       Emma Brown   2023-04-05   351.693139  Unpaid   \n",
      "96         1097     Olivia Davis   2023-04-07    90.072991  Unpaid   \n",
      "\n",
      "       Description        Department Billing Cycle Time  \n",
      "9       Medication       Dermatology                NaT  \n",
      "13   Miscellaneous        Pediatrics                NaT  \n",
      "15       Follow-up  General Practice                NaT  \n",
      "100      Follow-up  General Practice             0 days  \n",
      "20         Therapy         Neurology                NaT  \n",
      "21    Consultation       Dermatology                NaT  \n",
      "24       Follow-up       Orthopedics                NaT  \n",
      "25       Follow-up       Orthopedics                NaT  \n",
      "105      Follow-up       Orthopedics             0 days  \n",
      "30         Therapy               ENT                NaT  \n",
      "34        Purchase          Oncology                NaT  \n",
      "35        Purchase  General Practice                NaT  \n",
      "38        Purchase       Orthopedics                NaT  \n",
      "44        Lab Test        Pediatrics                NaT  \n",
      "49       Follow-up          Oncology                NaT  \n",
      "50       Emergency         Neurology                NaT  \n",
      "54    Consultation       Dermatology                NaT  \n",
      "57    Consultation        Pediatrics                NaT  \n",
      "58       Procedure         Neurology                NaT  \n",
      "60      Medication        Cardiology                NaT  \n",
      "65          Refund               ENT                NaT  \n",
      "66        Lab Test          Oncology                NaT  \n",
      "67       Follow-up               ENT                NaT  \n",
      "73    Consultation               ENT                NaT  \n",
      "74        Purchase        Pediatrics                NaT  \n",
      "77       Emergency       Dermatology                NaT  \n",
      "78       Follow-up       Dermatology                NaT  \n",
      "85    Consultation       Orthopedics                NaT  \n",
      "87       Emergency         Radiology                NaT  \n",
      "90       Procedure          Oncology                NaT  \n",
      "91      Medication         Radiology                NaT  \n",
      "94      Medication               ENT                NaT  \n",
      "96       Emergency        Pediatrics                NaT  \n"
     ]
    }
   ],
   "source": [
    "late_payments = data[data['Status'] == 'Unpaid']\n",
    "print(f\"Late payments:\\n{late_payments}\")"
   ]
  },
  {
   "cell_type": "code",
   "execution_count": 20,
   "id": "2a911f9b-33df-4a90-a391-95891bf3ae05",
   "metadata": {},
   "outputs": [
    {
     "name": "stdout",
     "output_type": "stream",
     "text": [
      "Average Payment Amount: 467.2742140387\n",
      "Payment discrepancies:\n",
      "     Account ID    Customer Name Billing Date       Amount   Status  \\\n",
      "15         1016       Emma Brown   2023-01-16    51.400493   Unpaid   \n",
      "100        1016       Emma Brown   2023-01-16    63.786910   Unpaid   \n",
      "16         1017         John Doe   2023-01-17  2748.478753  Pending   \n",
      "101        1017         John Doe   2023-01-17  2526.258343  Pending   \n",
      "17         1018  Mason Rodriguez   2023-01-18   442.279951     Paid   \n",
      "102        1018  Mason Rodriguez   2023-01-18   376.162550     Paid   \n",
      "18         1019     Olivia Davis   2023-01-19   143.558787     Paid   \n",
      "103        1019     Olivia Davis   2023-01-19    76.545003     Paid   \n",
      "19         1020     Olivia Davis   2023-01-20   139.148779     Paid   \n",
      "104        1020     Olivia Davis   2023-01-20    94.776324     Paid   \n",
      "25         1026        Chris Lee   2023-01-26   224.110767   Unpaid   \n",
      "105        1026        Chris Lee   2023-01-26   182.072114   Unpaid   \n",
      "26         1027     Olivia Davis   2023-01-27    85.720588     Paid   \n",
      "106        1027     Olivia Davis   2023-01-27    87.943419     Paid   \n",
      "27         1028  Mason Rodriguez   2023-01-28  1274.901263  Pending   \n",
      "107        1028  Mason Rodriguez   2023-01-28  1511.137290  Pending   \n",
      "29         1030       Emma Brown   2023-01-30   256.946223  Pending   \n",
      "109        1030       Emma Brown   2023-01-30   375.220875  Pending   \n",
      "\n",
      "       Description        Department Billing Cycle Time  \n",
      "15       Follow-up  General Practice                NaT  \n",
      "100      Follow-up  General Practice             0 days  \n",
      "16          Refund               ENT                NaT  \n",
      "101         Refund               ENT             0 days  \n",
      "17        Lab Test          Pharmacy                NaT  \n",
      "102       Lab Test          Pharmacy             0 days  \n",
      "18   Miscellaneous         Radiology                NaT  \n",
      "103      Procedure         Radiology             0 days  \n",
      "19    Consultation       Dermatology                NaT  \n",
      "104   Consultation       Dermatology             0 days  \n",
      "25       Follow-up       Orthopedics                NaT  \n",
      "105      Follow-up       Orthopedics             0 days  \n",
      "26       Follow-up         Radiology                NaT  \n",
      "106      Follow-up         Radiology             0 days  \n",
      "27      Medication          Oncology                NaT  \n",
      "107     Medication          Oncology             0 days  \n",
      "29       Emergency        Cardiology                NaT  \n",
      "109      Emergency        Cardiology             0 days  \n"
     ]
    }
   ],
   "source": [
    "average_payment_amount = data['Amount'].mean()\n",
    "payment_discrepancies = data[data['Amount'] != data.groupby('Account ID')['Amount'].transform('mean')]\n",
    "\n",
    "print(f\"Average Payment Amount: {average_payment_amount}\")\n",
    "print(f\"Payment discrepancies:\\n{payment_discrepancies}\")"
   ]
  },
  {
   "cell_type": "markdown",
   "id": "574faa1e-5c71-4787-bf6a-c853f13ac430",
   "metadata": {},
   "source": [
    "# Data Visualization"
   ]
  },
  {
   "cell_type": "markdown",
   "id": "a947d80f-349e-443c-a53b-da9d0fbdae84",
   "metadata": {},
   "source": [
    "### Distribution of billing payments"
   ]
  },
  {
   "cell_type": "code",
   "execution_count": 21,
   "id": "0c79cf99-dedf-4cea-a189-a9badb6012fd",
   "metadata": {},
   "outputs": [
    {
     "data": {
      "image/png": "[encoded data removed]",
      "text/plain": [
       "<Figure size 1000x600 with 1 Axes>"
      ]
     },
     "metadata": {},
     "output_type": "display_data"
    }
   ],
   "source": [
    "plt.figure(figsize=(10, 6))\n",
    "sns.histplot(data['Amount'], bins=50, kde=True)\n",
    "plt.title('Distribution of Billing Amounts')\n",
    "plt.xlabel('Amount')\n",
    "plt.ylabel('Frequency')\n",
    "plt.show()"
   ]
  },
  {
   "cell_type": "code",
   "execution_count": 34,
   "id": "da6a37ef-8e7f-481f-831a-268cc265004d",
   "metadata": {},
   "outputs": [],
   "source": [
    "import os\n",
    "os.environ[\"LANGCHAIN_API_KEY\"] = \"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\"\n",
    "os.environ[\"LANGCHAIN_TRACING_V2\"] = \"true\""
   ]
  },
  {
   "cell_type": "code",
   "execution_count": 37,
   "id": "f9eefdcf-90b6-4e21-8ce6-fdc6104bc1dd",
   "metadata": {},
   "outputs": [],
   "source": [
    "from langchain_community.llms import Ollama\n",
    "from langchain_core.prompts import ChatPromptTemplate\n",
    "from langchain_core.output_parsers import StrOutputParser"
   ]
  },
  {
   "cell_type": "code",
   "execution_count": 38,
   "id": "99b73f49-e6b2-4133-9032-ea3904ad76c8",
   "metadata": {},
   "outputs": [],
   "source": [
    "model_insights = Ollama(model=\"llama3\")\n",
    "model_report = Ollama(model=\"llama3\")"
   ]
  },
  {
   "cell_type": "code",
   "execution_count": 39,
   "id": "c9da3cdd-52ee-4ca5-9f42-36fc31915537",
   "metadata": {},
   "outputs": [],
   "source": [
    "# Define function to generate insights\n",
    "def generate_insights(data):\n",
    "    prompt = f\"Analyze the billing data:\\n{data}\\nGenerate insights and observations.\"\n",
    "    return model_insights(prompt)\n",
    "\n",
    "# Define function to write a detailed report\n",
    "def write_report(analysis, insights):\n",
    "    prompt = f\"Based on the billing analysis:\\n{analysis}\\nGenerate a detailed report with the following insights:\\n{insights}\"\n",
    "    return model_report(prompt)"
   ]
  },
  {
   "cell_type": "code",
   "execution_count": 40,
   "id": "b16c3c6f-5ef5-4b0e-897f-4e5139a735d4",
   "metadata": {},
   "outputs": [
    {
     "name": "stderr",
     "output_type": "stream",
     "text": [
      "C:\\Users\\User\\miniconda3\\Lib\\site-packages\\langchain_core\\_api\\deprecation.py:139: LangChainDeprecationWarning: The method `BaseLLM.__call__` was deprecated in langchain-core 0.1.7 and will be removed in 0.3.0. Use invoke instead.\n",
      "  warn_deprecated(\n"
     ]
    },
    {
     "name": "stdout",
     "output_type": "stream",
     "text": [
      "**Billing Analysis Report**\n",
      "\n",
      "**Introduction:**\n",
      "This report provides a detailed analysis of our billing data, highlighting key trends, insights, and areas for improvement. The findings aim to inform strategic decisions that drive growth, optimize revenue, and enhance customer satisfaction.\n",
      "\n",
      "**Payment Timeliness:**\n",
      "Our billing data reveals 33 instances of late payments, indicating a significant issue with payment timeliness. This trend can impact cash flow and relationships with clients. To address this, we recommend implementing strategies to improve payment timeliness, such as offering incentives for early payments or simplifying the payment process.\n",
      "\n",
      "**Cost Structure:**\n",
      "The presence of high-cost transactions (5) suggests that certain services or products may be more expensive than others. Analyzing these transactions can help us optimize pricing or identify opportunities to reduce costs and increase revenue.\n",
      "\n",
      "**Payment Amounts:**\n",
      "The average payment amount is relatively high at $467.27, indicating a strong loyalty to our service or product offerings. This finding can inform upselling and cross-selling strategies to further increase revenue.\n",
      "\n",
      "**Payment Discrepancies:**\n",
      "The 18 instances of payment discrepancies reported may be due to various reasons such as incorrect account information, processing errors, or customer mistakes. To ensure accurate billing practices, we recommend implementing a system to quickly identify and resolve these discrepancies.\n",
      "\n",
      "**Overall Transactions:**\n",
      "The total number of transactions (44) suggests a moderate level of activity, indicating a decent volume of business. However, the proportion of late payments and high-cost services is unclear, which may impact overall revenue and profitability.\n",
      "\n",
      "**Average Billing Cycle:**\n",
      "The average billing cycle is reported as 0 days, indicating that all transactions are current, with no significant delay in billing. This finding suggests good financial health for our company.\n",
      "\n",
      "**Actionable Insights:**\n",
      "\n",
      "1. **Focus on timely payments:** Implement strategies to improve payment timeliness.\n",
      "2. **Analyze high-cost transactions:** Investigate the nature of these transactions and consider optimizing pricing or reducing costs.\n",
      "3. **Address payment discrepancies:** Implement a system to quickly identify and resolve payment discrepancies.\n",
      "4. **Monitor overall transactions:** Continuously track transaction volume and analyze trends to identify areas for growth or potential issues.\n",
      "5. **Review average payment amount:** Consider the average payment amount as an indicator of customer loyalty and satisfaction, and explore opportunities to increase revenue through upselling or cross-selling.\n",
      "\n",
      "By addressing these insights and observations, we can improve our billing processes, reduce costs, and enhance overall financial performance.\n"
     ]
    }
   ],
   "source": [
    "billing_data = {\n",
    "    'avg_billing_cycle': '0 days 00:00:00',\n",
    "    'high_cost_transactions': 5,\n",
    "    'late_payments': 33,\n",
    "    'avg_payment_amount': 467.2742140387,\n",
    "    'payment_discrepancies': 18,\n",
    "    'total_transactions': 44\n",
    "}\n",
    "\n",
    "# Generate insights\n",
    "analysis = \"Detailed analysis of billing data.\"\n",
    "insights = generate_insights(billing_data)\n",
    "\n",
    "# Generate report\n",
    "final_report = write_report(analysis, insights)\n",
    "\n",
    "# Print or use the final report\n",
    "print(final_report)"
   ]
  },
  {
   "cell_type": "code",
   "execution_count": null,
   "id": "20624905-0bd4-4c64-949d-009e4db0ef95",
   "metadata": {},
   "outputs": [],
   "source": []
  }
 ],
 "metadata": {
  "kernelspec": {
   "display_name": "Python 3 (ipykernel)",
   "language": "python",
   "name": "python3"
  },
  "language_info": {
   "codemirror_mode": {
    "name": "ipython",
    "version": 3
   },
   "file_extension": ".py",
   "mimetype": "text/x-python",
   "name": "python",
   "nbconvert_exporter": "python",
   "pygments_lexer": "ipython3",
   "version": "3.12.3"
  }
 },
 "nbformat": 4,
 "nbformat_minor": 5
}
